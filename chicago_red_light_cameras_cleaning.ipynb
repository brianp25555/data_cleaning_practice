{
 "cells": [
  {
   "cell_type": "markdown",
   "metadata": {},
   "source": [
    "## Data Preparation Practice\n",
    "\n",
    "#### Purpose: \n",
    "\n",
    "+ The purpose of this notebook is to practice the data gathering, assessment, and cleaning process using pandas.\n",
    "\n",
    "#### The Dataset:\n",
    "\n",
    "+ The dataset is the Chicago Red Light Camera dataset which can be found on kaggle [here](https://www.kaggle.com/chicago/chicago-red-light-and-speed-camera-data)."
   ]
  },
  {
   "cell_type": "markdown",
   "metadata": {},
   "source": [
    "#### Import Libraries"
   ]
  },
  {
   "cell_type": "code",
   "execution_count": 1,
   "metadata": {},
   "outputs": [],
   "source": [
    "# Import libraries necessary to unzip data and clean data.\n",
    "\n",
    "import zipfile\n",
    "import pandas as pd"
   ]
  },
  {
   "cell_type": "markdown",
   "metadata": {},
   "source": [
    "### Gather Data"
   ]
  },
  {
   "cell_type": "code",
   "execution_count": 2,
   "metadata": {},
   "outputs": [],
   "source": [
    "#Use zipfile to unzip data folder\n",
    "\n",
    "with zipfile.ZipFile('chicago-red-light-and-speed-camera-data.zip','r') as myzip:\n",
    "    myzip.extractall()"
   ]
  },
  {
   "cell_type": "code",
   "execution_count": 10,
   "metadata": {},
   "outputs": [
    {
     "data": {
      "text/html": [
       "<div>\n",
       "<style scoped>\n",
       "    .dataframe tbody tr th:only-of-type {\n",
       "        vertical-align: middle;\n",
       "    }\n",
       "\n",
       "    .dataframe tbody tr th {\n",
       "        vertical-align: top;\n",
       "    }\n",
       "\n",
       "    .dataframe thead th {\n",
       "        text-align: right;\n",
       "    }\n",
       "</style>\n",
       "<table border=\"1\" class=\"dataframe\">\n",
       "  <thead>\n",
       "    <tr style=\"text-align: right;\">\n",
       "      <th></th>\n",
       "      <th>ADDRESS</th>\n",
       "      <th>CAMERA ID</th>\n",
       "      <th>VIOLATION DATE</th>\n",
       "      <th>VIOLATIONS</th>\n",
       "      <th>X COORDINATE</th>\n",
       "      <th>Y COORDINATE</th>\n",
       "      <th>LATITUDE</th>\n",
       "      <th>LONGITUDE</th>\n",
       "      <th>LOCATION</th>\n",
       "      <th>Historical Wards 2003-2015</th>\n",
       "      <th>Zip Codes</th>\n",
       "      <th>Community Areas</th>\n",
       "      <th>Census Tracts</th>\n",
       "      <th>Wards</th>\n",
       "    </tr>\n",
       "  </thead>\n",
       "  <tbody>\n",
       "    <tr>\n",
       "      <th>0</th>\n",
       "      <td>10318 S INDIANAPOLIS</td>\n",
       "      <td>CHI120</td>\n",
       "      <td>2019-07-04T00:00:00.000</td>\n",
       "      <td>196</td>\n",
       "      <td>1.203645e+06</td>\n",
       "      <td>1.837056e+06</td>\n",
       "      <td>41.707577</td>\n",
       "      <td>-87.529848</td>\n",
       "      <td>{'human_address': '{\"address\": \"\", \"city\": \"\",...</td>\n",
       "      <td>47.0</td>\n",
       "      <td>21202.0</td>\n",
       "      <td>49.0</td>\n",
       "      <td>705.0</td>\n",
       "      <td>47.0</td>\n",
       "    </tr>\n",
       "    <tr>\n",
       "      <th>1</th>\n",
       "      <td>1111 N HUMBOLDT</td>\n",
       "      <td>CHI010</td>\n",
       "      <td>2019-07-04T00:00:00.000</td>\n",
       "      <td>60</td>\n",
       "      <td>NaN</td>\n",
       "      <td>NaN</td>\n",
       "      <td>NaN</td>\n",
       "      <td>NaN</td>\n",
       "      <td>NaN</td>\n",
       "      <td>NaN</td>\n",
       "      <td>NaN</td>\n",
       "      <td>NaN</td>\n",
       "      <td>NaN</td>\n",
       "      <td>NaN</td>\n",
       "    </tr>\n",
       "    <tr>\n",
       "      <th>2</th>\n",
       "      <td>1142 W IRVING PARK</td>\n",
       "      <td>CHI095</td>\n",
       "      <td>2019-07-04T00:00:00.000</td>\n",
       "      <td>80</td>\n",
       "      <td>1.167790e+06</td>\n",
       "      <td>1.926747e+06</td>\n",
       "      <td>41.954541</td>\n",
       "      <td>-87.658573</td>\n",
       "      <td>{'human_address': '{\"address\": \"\", \"city\": \"\",...</td>\n",
       "      <td>37.0</td>\n",
       "      <td>21186.0</td>\n",
       "      <td>31.0</td>\n",
       "      <td>241.0</td>\n",
       "      <td>39.0</td>\n",
       "    </tr>\n",
       "    <tr>\n",
       "      <th>3</th>\n",
       "      <td>115 N OGDEN</td>\n",
       "      <td>CHI077</td>\n",
       "      <td>2019-07-04T00:00:00.000</td>\n",
       "      <td>47</td>\n",
       "      <td>1.166485e+06</td>\n",
       "      <td>1.900735e+06</td>\n",
       "      <td>41.883192</td>\n",
       "      <td>-87.664115</td>\n",
       "      <td>{'human_address': '{\"address\": \"\", \"city\": \"\",...</td>\n",
       "      <td>41.0</td>\n",
       "      <td>14917.0</td>\n",
       "      <td>29.0</td>\n",
       "      <td>63.0</td>\n",
       "      <td>46.0</td>\n",
       "    </tr>\n",
       "    <tr>\n",
       "      <th>4</th>\n",
       "      <td>1315 W GARFIELD BLVD</td>\n",
       "      <td>CHI121</td>\n",
       "      <td>2019-07-04T00:00:00.000</td>\n",
       "      <td>58</td>\n",
       "      <td>1.168445e+06</td>\n",
       "      <td>1.868118e+06</td>\n",
       "      <td>41.793645</td>\n",
       "      <td>-87.657861</td>\n",
       "      <td>{'human_address': '{\"address\": \"\", \"city\": \"\",...</td>\n",
       "      <td>19.0</td>\n",
       "      <td>22257.0</td>\n",
       "      <td>65.0</td>\n",
       "      <td>297.0</td>\n",
       "      <td>2.0</td>\n",
       "    </tr>\n",
       "  </tbody>\n",
       "</table>\n",
       "</div>"
      ],
      "text/plain": [
       "                ADDRESS CAMERA ID           VIOLATION DATE  VIOLATIONS  \\\n",
       "0  10318 S INDIANAPOLIS    CHI120  2019-07-04T00:00:00.000         196   \n",
       "1       1111 N HUMBOLDT    CHI010  2019-07-04T00:00:00.000          60   \n",
       "2    1142 W IRVING PARK    CHI095  2019-07-04T00:00:00.000          80   \n",
       "3           115 N OGDEN    CHI077  2019-07-04T00:00:00.000          47   \n",
       "4  1315 W GARFIELD BLVD    CHI121  2019-07-04T00:00:00.000          58   \n",
       "\n",
       "   X COORDINATE  Y COORDINATE   LATITUDE  LONGITUDE  \\\n",
       "0  1.203645e+06  1.837056e+06  41.707577 -87.529848   \n",
       "1           NaN           NaN        NaN        NaN   \n",
       "2  1.167790e+06  1.926747e+06  41.954541 -87.658573   \n",
       "3  1.166485e+06  1.900735e+06  41.883192 -87.664115   \n",
       "4  1.168445e+06  1.868118e+06  41.793645 -87.657861   \n",
       "\n",
       "                                            LOCATION  \\\n",
       "0  {'human_address': '{\"address\": \"\", \"city\": \"\",...   \n",
       "1                                                NaN   \n",
       "2  {'human_address': '{\"address\": \"\", \"city\": \"\",...   \n",
       "3  {'human_address': '{\"address\": \"\", \"city\": \"\",...   \n",
       "4  {'human_address': '{\"address\": \"\", \"city\": \"\",...   \n",
       "\n",
       "   Historical Wards 2003-2015  Zip Codes  Community Areas  Census Tracts  \\\n",
       "0                        47.0    21202.0             49.0          705.0   \n",
       "1                         NaN        NaN              NaN            NaN   \n",
       "2                        37.0    21186.0             31.0          241.0   \n",
       "3                        41.0    14917.0             29.0           63.0   \n",
       "4                        19.0    22257.0             65.0          297.0   \n",
       "\n",
       "   Wards  \n",
       "0   47.0  \n",
       "1    NaN  \n",
       "2   39.0  \n",
       "3   46.0  \n",
       "4    2.0  "
      ]
     },
     "execution_count": 10,
     "metadata": {},
     "output_type": "execute_result"
    }
   ],
   "source": [
    "df = pd.read_csv('speed-camera-violations.csv')\n",
    "df.head()"
   ]
  },
  {
   "cell_type": "markdown",
   "metadata": {},
   "source": [
    "### Assess"
   ]
  },
  {
   "cell_type": "code",
   "execution_count": 13,
   "metadata": {},
   "outputs": [
    {
     "data": {
      "text/plain": [
       "Index(['ADDRESS', 'CAMERA ID', 'VIOLATION DATE', 'VIOLATIONS', 'X COORDINATE',\n",
       "       'Y COORDINATE', 'LATITUDE', 'LONGITUDE', 'LOCATION',\n",
       "       'Historical Wards 2003-2015', 'Zip Codes', 'Community Areas',\n",
       "       'Census Tracts', 'Wards'],\n",
       "      dtype='object')"
      ]
     },
     "execution_count": 13,
     "metadata": {},
     "output_type": "execute_result"
    }
   ],
   "source": [
    "# Check format of column names\n",
    "\n",
    "df.columns"
   ]
  },
  {
   "cell_type": "code",
   "execution_count": 11,
   "metadata": {},
   "outputs": [
    {
     "name": "stdout",
     "output_type": "stream",
     "text": [
      "<class 'pandas.core.frame.DataFrame'>\n",
      "RangeIndex: 193236 entries, 0 to 193235\n",
      "Data columns (total 14 columns):\n",
      "ADDRESS                       193236 non-null object\n",
      "CAMERA ID                     193236 non-null object\n",
      "VIOLATION DATE                193236 non-null object\n",
      "VIOLATIONS                    193236 non-null int64\n",
      "X COORDINATE                  185910 non-null float64\n",
      "Y COORDINATE                  185910 non-null float64\n",
      "LATITUDE                      185910 non-null float64\n",
      "LONGITUDE                     185910 non-null float64\n",
      "LOCATION                      185910 non-null object\n",
      "Historical Wards 2003-2015    185910 non-null float64\n",
      "Zip Codes                     185910 non-null float64\n",
      "Community Areas               185910 non-null float64\n",
      "Census Tracts                 185910 non-null float64\n",
      "Wards                         185910 non-null float64\n",
      "dtypes: float64(9), int64(1), object(4)\n",
      "memory usage: 20.6+ MB\n"
     ]
    }
   ],
   "source": [
    "# Check for null values\n",
    "df.info()"
   ]
  },
  {
   "cell_type": "code",
   "execution_count": 12,
   "metadata": {},
   "outputs": [
    {
     "data": {
      "text/plain": [
       "0"
      ]
     },
     "execution_count": 12,
     "metadata": {},
     "output_type": "execute_result"
    }
   ],
   "source": [
    "# Check for duplicate rows\n",
    "\n",
    "sum(df.duplicated())"
   ]
  },
  {
   "cell_type": "markdown",
   "metadata": {},
   "source": [
    "#### Observations: \n",
    "\n",
    "    + Mix of upper-case and lower-case column names.\n",
    "    + Column names with spaces instead of underscores.\n",
    "    + Approx 8,000 rows with null elements in all but 4 columns. "
   ]
  },
  {
   "cell_type": "markdown",
   "metadata": {},
   "source": [
    "### Cleaning\n"
   ]
  },
  {
   "cell_type": "markdown",
   "metadata": {},
   "source": [
    "#### Define\n",
    "\n",
    "+ Change all column names to lower case letters.\n",
    "+ Substitute spaces in column names with lower underscores\n",
    "+ Remove rows where majority of columns have null values."
   ]
  },
  {
   "cell_type": "markdown",
   "metadata": {},
   "source": [
    "#### Code"
   ]
  },
  {
   "cell_type": "markdown",
   "metadata": {},
   "source": [
    "**Change all column names to lower case letters**"
   ]
  },
  {
   "cell_type": "code",
   "execution_count": 15,
   "metadata": {},
   "outputs": [
    {
     "data": {
      "text/plain": [
       "Index(['address', 'camera id', 'violation date', 'violations', 'x coordinate',\n",
       "       'y coordinate', 'latitude', 'longitude', 'location',\n",
       "       'historical wards 2003-2015', 'zip codes', 'community areas',\n",
       "       'census tracts', 'wards'],\n",
       "      dtype='object')"
      ]
     },
     "execution_count": 15,
     "metadata": {},
     "output_type": "execute_result"
    }
   ],
   "source": [
    "df.rename(columns= lambda x: x.lower(), inplace=True)\n",
    "df.columns"
   ]
  },
  {
   "cell_type": "markdown",
   "metadata": {},
   "source": [
    "**Substitute spaces in column headers with underscores**"
   ]
  },
  {
   "cell_type": "code",
   "execution_count": 17,
   "metadata": {},
   "outputs": [
    {
     "data": {
      "text/plain": [
       "Index(['address', 'camera_id', 'violation_date', 'violations', 'x_coordinate',\n",
       "       'y_coordinate', 'latitude', 'longitude', 'location',\n",
       "       'historical_wards_2003-2015', 'zip_codes', 'community_areas',\n",
       "       'census_tracts', 'wards'],\n",
       "      dtype='object')"
      ]
     },
     "execution_count": 17,
     "metadata": {},
     "output_type": "execute_result"
    }
   ],
   "source": [
    "df.rename(columns = lambda x: x.replace(' ','_'),inplace=True)\n",
    "df.columns"
   ]
  },
  {
   "cell_type": "markdown",
   "metadata": {},
   "source": [
    "**Remove rows with null values.**"
   ]
  },
  {
   "cell_type": "code",
   "execution_count": 18,
   "metadata": {},
   "outputs": [
    {
     "name": "stdout",
     "output_type": "stream",
     "text": [
      "<class 'pandas.core.frame.DataFrame'>\n",
      "Int64Index: 185910 entries, 0 to 193235\n",
      "Data columns (total 14 columns):\n",
      "address                       185910 non-null object\n",
      "camera_id                     185910 non-null object\n",
      "violation_date                185910 non-null object\n",
      "violations                    185910 non-null int64\n",
      "x_coordinate                  185910 non-null float64\n",
      "y_coordinate                  185910 non-null float64\n",
      "latitude                      185910 non-null float64\n",
      "longitude                     185910 non-null float64\n",
      "location                      185910 non-null object\n",
      "historical_wards_2003-2015    185910 non-null float64\n",
      "zip_codes                     185910 non-null float64\n",
      "community_areas               185910 non-null float64\n",
      "census_tracts                 185910 non-null float64\n",
      "wards                         185910 non-null float64\n",
      "dtypes: float64(9), int64(1), object(4)\n",
      "memory usage: 21.3+ MB\n"
     ]
    }
   ],
   "source": [
    "df.dropna(axis = 0, inplace = True)\n",
    "df.info()"
   ]
  },
  {
   "cell_type": "markdown",
   "metadata": {},
   "source": [
    "#### Test"
   ]
  },
  {
   "cell_type": "code",
   "execution_count": 27,
   "metadata": {},
   "outputs": [
    {
     "name": "stdout",
     "output_type": "stream",
     "text": [
      "All column headers are lower case\n"
     ]
    }
   ],
   "source": [
    "# Check that all column headers are lower case\n",
    "\n",
    "for e in df.columns:\n",
    "    assert e.islower()==True\n",
    "print('All column headers are lower case')"
   ]
  },
  {
   "cell_type": "code",
   "execution_count": 28,
   "metadata": {},
   "outputs": [
    {
     "name": "stdout",
     "output_type": "stream",
     "text": [
      "There are no spaces in column names\n"
     ]
    }
   ],
   "source": [
    "# Check that there are no spaces in column names\n",
    "\n",
    "for e in df.columns:\n",
    "    assert ' ' not in e\n",
    "print('There are no spaces in column names')"
   ]
  },
  {
   "cell_type": "code",
   "execution_count": 36,
   "metadata": {},
   "outputs": [
    {
     "name": "stdout",
     "output_type": "stream",
     "text": [
      "There are no null values\n"
     ]
    }
   ],
   "source": [
    "# Check that there are no null values\n",
    "\n",
    "for e in df.isnull().any():\n",
    "    assert e ==False\n",
    "print('There are no null values')\n",
    "\n",
    "\n"
   ]
  },
  {
   "cell_type": "markdown",
   "metadata": {},
   "source": [
    "### Conclusions\n",
    "\n",
    "In conclusion the following changes were made to this data set:\n",
    "\n",
    "+ Change all column names to lower case letters.\n",
    "+ Substitute spaces in column names with lower underscores\n",
    "+ Remove rows where majority of columns have null values.\n",
    "\n"
   ]
  },
  {
   "cell_type": "code",
   "execution_count": null,
   "metadata": {},
   "outputs": [],
   "source": []
  }
 ],
 "metadata": {
  "kernelspec": {
   "display_name": "Python 3",
   "language": "python",
   "name": "python3"
  },
  "language_info": {
   "codemirror_mode": {
    "name": "ipython",
    "version": 3
   },
   "file_extension": ".py",
   "mimetype": "text/x-python",
   "name": "python",
   "nbconvert_exporter": "python",
   "pygments_lexer": "ipython3",
   "version": "3.7.3"
  }
 },
 "nbformat": 4,
 "nbformat_minor": 2
}
