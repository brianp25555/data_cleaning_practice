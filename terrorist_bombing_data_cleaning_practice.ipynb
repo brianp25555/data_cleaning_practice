{
 "cells": [
  {
   "cell_type": "markdown",
   "metadata": {},
   "source": [
    "# Introduction"
   ]
  },
  {
   "cell_type": "markdown",
   "metadata": {},
   "source": [
    "## Purpose:\n",
    "\n",
    " + The purpose of the jupyter notebook is to practice data cleaning using the pandas library."
   ]
  },
  {
   "cell_type": "markdown",
   "metadata": {},
   "source": [
    "## The dataset:\n",
    "\n",
    "   + The dataset that will be used for this cleaning practice is a summary of suicide bombings in pakistan which can be found on [kaggle](https://www.kaggle.com/zusmani/pakistansuicideattacks/downloads/pakistansuicideattacks.zip/6)"
   ]
  },
  {
   "cell_type": "markdown",
   "metadata": {},
   "source": [
    "### Import"
   ]
  },
  {
   "cell_type": "code",
   "execution_count": 1,
   "metadata": {},
   "outputs": [],
   "source": [
    "# Import packages necessary to open zip files and clean data\n",
    "\n",
    "import zipfile\n",
    "import pandas as pd"
   ]
  },
  {
   "cell_type": "markdown",
   "metadata": {},
   "source": [
    "### Gather"
   ]
  },
  {
   "cell_type": "code",
   "execution_count": 2,
   "metadata": {},
   "outputs": [],
   "source": [
    "# Open zip file containing dataset\n",
    "\n",
    "with zipfile.ZipFile('pakistansuicideattacks.zip') as myzip:\n",
    "    myzip.extractall()"
   ]
  },
  {
   "cell_type": "code",
   "execution_count": 6,
   "metadata": {},
   "outputs": [],
   "source": [
    "# Open csv as pandas dataframe\n",
    "\n",
    "df = pd.read_csv('terrorist_bombings.csv',encoding = \"ISO-8859-1\")\n"
   ]
  },
  {
   "cell_type": "code",
   "execution_count": 7,
   "metadata": {},
   "outputs": [
    {
     "data": {
      "text/html": [
       "<div>\n",
       "<style scoped>\n",
       "    .dataframe tbody tr th:only-of-type {\n",
       "        vertical-align: middle;\n",
       "    }\n",
       "\n",
       "    .dataframe tbody tr th {\n",
       "        vertical-align: top;\n",
       "    }\n",
       "\n",
       "    .dataframe thead th {\n",
       "        text-align: right;\n",
       "    }\n",
       "</style>\n",
       "<table border=\"1\" class=\"dataframe\">\n",
       "  <thead>\n",
       "    <tr style=\"text-align: right;\">\n",
       "      <th></th>\n",
       "      <th>S#</th>\n",
       "      <th>Date</th>\n",
       "      <th>Islamic Date</th>\n",
       "      <th>Blast Day Type</th>\n",
       "      <th>Holiday Type</th>\n",
       "      <th>Time</th>\n",
       "      <th>City</th>\n",
       "      <th>Latitude</th>\n",
       "      <th>Longitude</th>\n",
       "      <th>Province</th>\n",
       "      <th>...</th>\n",
       "      <th>Targeted Sect if any</th>\n",
       "      <th>Killed Min</th>\n",
       "      <th>Killed Max</th>\n",
       "      <th>Injured Min</th>\n",
       "      <th>Injured Max</th>\n",
       "      <th>No. of Suicide Blasts</th>\n",
       "      <th>Explosive Weight (max)</th>\n",
       "      <th>Hospital Names</th>\n",
       "      <th>Temperature(C)</th>\n",
       "      <th>Temperature(F)</th>\n",
       "    </tr>\n",
       "  </thead>\n",
       "  <tbody>\n",
       "    <tr>\n",
       "      <th>0</th>\n",
       "      <td>1</td>\n",
       "      <td>Sunday-November 19-1995</td>\n",
       "      <td>25 Jumaada al-THaany 1416 A.H</td>\n",
       "      <td>Holiday</td>\n",
       "      <td>Weekend</td>\n",
       "      <td>NaN</td>\n",
       "      <td>Islamabad</td>\n",
       "      <td>33.7180</td>\n",
       "      <td>73.0718</td>\n",
       "      <td>Capital</td>\n",
       "      <td>...</td>\n",
       "      <td>None</td>\n",
       "      <td>14.0</td>\n",
       "      <td>15.0</td>\n",
       "      <td>NaN</td>\n",
       "      <td>60</td>\n",
       "      <td>2.0</td>\n",
       "      <td>NaN</td>\n",
       "      <td>NaN</td>\n",
       "      <td>15.835</td>\n",
       "      <td>60.503</td>\n",
       "    </tr>\n",
       "    <tr>\n",
       "      <th>1</th>\n",
       "      <td>2</td>\n",
       "      <td>Monday-November 6-2000</td>\n",
       "      <td>10 SHa`baan 1421 A.H</td>\n",
       "      <td>Working Day</td>\n",
       "      <td>NaN</td>\n",
       "      <td>NaN</td>\n",
       "      <td>Karachi</td>\n",
       "      <td>24.9918</td>\n",
       "      <td>66.9911</td>\n",
       "      <td>Sindh</td>\n",
       "      <td>...</td>\n",
       "      <td>None</td>\n",
       "      <td>NaN</td>\n",
       "      <td>3.0</td>\n",
       "      <td>NaN</td>\n",
       "      <td>3</td>\n",
       "      <td>1.0</td>\n",
       "      <td>NaN</td>\n",
       "      <td>NaN</td>\n",
       "      <td>23.770</td>\n",
       "      <td>74.786</td>\n",
       "    </tr>\n",
       "    <tr>\n",
       "      <th>2</th>\n",
       "      <td>3</td>\n",
       "      <td>Wednesday-May 8-2002</td>\n",
       "      <td>25 safar 1423 A.H</td>\n",
       "      <td>Working Day</td>\n",
       "      <td>NaN</td>\n",
       "      <td>7:45 AM</td>\n",
       "      <td>Karachi</td>\n",
       "      <td>24.9918</td>\n",
       "      <td>66.9911</td>\n",
       "      <td>Sindh</td>\n",
       "      <td>...</td>\n",
       "      <td>Christian</td>\n",
       "      <td>13.0</td>\n",
       "      <td>15.0</td>\n",
       "      <td>20.0</td>\n",
       "      <td>40</td>\n",
       "      <td>1.0</td>\n",
       "      <td>2.5 Kg</td>\n",
       "      <td>1.Jinnah Postgraduate Medical Center 2. Civil ...</td>\n",
       "      <td>31.460</td>\n",
       "      <td>88.628</td>\n",
       "    </tr>\n",
       "    <tr>\n",
       "      <th>3</th>\n",
       "      <td>4</td>\n",
       "      <td>Friday-June 14-2002</td>\n",
       "      <td>3 Raby` al-THaany 1423 A.H</td>\n",
       "      <td>Working Day</td>\n",
       "      <td>NaN</td>\n",
       "      <td>11:10:00 AM</td>\n",
       "      <td>Karachi</td>\n",
       "      <td>24.9918</td>\n",
       "      <td>66.9911</td>\n",
       "      <td>Sindh</td>\n",
       "      <td>...</td>\n",
       "      <td>Christian</td>\n",
       "      <td>NaN</td>\n",
       "      <td>12.0</td>\n",
       "      <td>NaN</td>\n",
       "      <td>51</td>\n",
       "      <td>1.0</td>\n",
       "      <td>NaN</td>\n",
       "      <td>NaN</td>\n",
       "      <td>31.430</td>\n",
       "      <td>88.574</td>\n",
       "    </tr>\n",
       "    <tr>\n",
       "      <th>4</th>\n",
       "      <td>5</td>\n",
       "      <td>Friday-July 4-2003</td>\n",
       "      <td>4 Jumaada al-awal 1424 A.H</td>\n",
       "      <td>Working Day</td>\n",
       "      <td>NaN</td>\n",
       "      <td>NaN</td>\n",
       "      <td>Quetta</td>\n",
       "      <td>30.2095</td>\n",
       "      <td>67.0182</td>\n",
       "      <td>Baluchistan</td>\n",
       "      <td>...</td>\n",
       "      <td>Shiite</td>\n",
       "      <td>44.0</td>\n",
       "      <td>47.0</td>\n",
       "      <td>NaN</td>\n",
       "      <td>65</td>\n",
       "      <td>1.0</td>\n",
       "      <td>NaN</td>\n",
       "      <td>1.CMH Quetta \\n2.Civil Hospital 3. Boland Medi...</td>\n",
       "      <td>33.120</td>\n",
       "      <td>91.616</td>\n",
       "    </tr>\n",
       "  </tbody>\n",
       "</table>\n",
       "<p>5 rows × 26 columns</p>\n",
       "</div>"
      ],
      "text/plain": [
       "   S#                     Date                   Islamic Date Blast Day Type  \\\n",
       "0   1  Sunday-November 19-1995  25 Jumaada al-THaany 1416 A.H        Holiday   \n",
       "1   2   Monday-November 6-2000           10 SHa`baan 1421 A.H    Working Day   \n",
       "2   3     Wednesday-May 8-2002              25 safar 1423 A.H    Working Day   \n",
       "3   4      Friday-June 14-2002     3 Raby` al-THaany 1423 A.H    Working Day   \n",
       "4   5       Friday-July 4-2003     4 Jumaada al-awal 1424 A.H    Working Day   \n",
       "\n",
       "  Holiday Type         Time       City  Latitude Longitude     Province  ...  \\\n",
       "0      Weekend          NaN  Islamabad   33.7180   73.0718      Capital  ...   \n",
       "1          NaN          NaN    Karachi   24.9918   66.9911        Sindh  ...   \n",
       "2          NaN      7:45 AM   Karachi    24.9918   66.9911        Sindh  ...   \n",
       "3          NaN  11:10:00 AM    Karachi   24.9918   66.9911        Sindh  ...   \n",
       "4          NaN          NaN     Quetta   30.2095   67.0182  Baluchistan  ...   \n",
       "\n",
       "  Targeted Sect if any Killed Min Killed Max Injured Min Injured Max  \\\n",
       "0                 None       14.0       15.0         NaN          60   \n",
       "1                 None        NaN        3.0         NaN           3   \n",
       "2            Christian       13.0       15.0        20.0          40   \n",
       "3            Christian        NaN       12.0         NaN          51   \n",
       "4               Shiite       44.0       47.0         NaN          65   \n",
       "\n",
       "  No. of Suicide Blasts Explosive Weight (max)  \\\n",
       "0                   2.0                    NaN   \n",
       "1                   1.0                    NaN   \n",
       "2                   1.0                 2.5 Kg   \n",
       "3                   1.0                    NaN   \n",
       "4                   1.0                    NaN   \n",
       "\n",
       "                                      Hospital Names  Temperature(C)  \\\n",
       "0                                                NaN          15.835   \n",
       "1                                                NaN          23.770   \n",
       "2  1.Jinnah Postgraduate Medical Center 2. Civil ...          31.460   \n",
       "3                                                NaN          31.430   \n",
       "4  1.CMH Quetta \\n2.Civil Hospital 3. Boland Medi...          33.120   \n",
       "\n",
       "   Temperature(F)  \n",
       "0          60.503  \n",
       "1          74.786  \n",
       "2          88.628  \n",
       "3          88.574  \n",
       "4          91.616  \n",
       "\n",
       "[5 rows x 26 columns]"
      ]
     },
     "execution_count": 7,
     "metadata": {},
     "output_type": "execute_result"
    }
   ],
   "source": [
    "# Show first 5 rows of dataframe\n",
    "\n",
    "df.head()"
   ]
  },
  {
   "cell_type": "markdown",
   "metadata": {},
   "source": [
    "### Assess"
   ]
  },
  {
   "cell_type": "code",
   "execution_count": 8,
   "metadata": {},
   "outputs": [
    {
     "data": {
      "text/plain": [
       "Index(['S#', 'Date', 'Islamic Date', 'Blast Day Type', 'Holiday Type', 'Time',\n",
       "       'City', 'Latitude', 'Longitude', 'Province', 'Location',\n",
       "       'Location Category', 'Location Sensitivity', 'Open/Closed Space',\n",
       "       'Influencing Event/Event', 'Target Type', 'Targeted Sect if any',\n",
       "       'Killed Min', 'Killed Max', 'Injured Min', 'Injured Max',\n",
       "       'No. of Suicide Blasts', 'Explosive Weight (max)', 'Hospital Names',\n",
       "       'Temperature(C)', 'Temperature(F)'],\n",
       "      dtype='object')"
      ]
     },
     "execution_count": 8,
     "metadata": {},
     "output_type": "execute_result"
    }
   ],
   "source": [
    "# Check for clarity of column names\n",
    "\n",
    "df.columns"
   ]
  },
  {
   "cell_type": "code",
   "execution_count": 9,
   "metadata": {},
   "outputs": [
    {
     "name": "stdout",
     "output_type": "stream",
     "text": [
      "<class 'pandas.core.frame.DataFrame'>\n",
      "RangeIndex: 496 entries, 0 to 495\n",
      "Data columns (total 26 columns):\n",
      "S#                         496 non-null int64\n",
      "Date                       496 non-null object\n",
      "Islamic Date               342 non-null object\n",
      "Blast Day Type             486 non-null object\n",
      "Holiday Type               72 non-null object\n",
      "Time                       285 non-null object\n",
      "City                       496 non-null object\n",
      "Latitude                   493 non-null float64\n",
      "Longitude                  493 non-null object\n",
      "Province                   496 non-null object\n",
      "Location                   493 non-null object\n",
      "Location Category          461 non-null object\n",
      "Location Sensitivity       460 non-null object\n",
      "Open/Closed Space          461 non-null object\n",
      "Influencing Event/Event    191 non-null object\n",
      "Target Type                470 non-null object\n",
      "Targeted Sect if any       448 non-null object\n",
      "Killed Min                 350 non-null float64\n",
      "Killed Max                 480 non-null float64\n",
      "Injured Min                365 non-null float64\n",
      "Injured Max                464 non-null object\n",
      "No. of Suicide Blasts      414 non-null float64\n",
      "Explosive Weight (max)     172 non-null object\n",
      "Hospital Names             297 non-null object\n",
      "Temperature(C)             491 non-null float64\n",
      "Temperature(F)             489 non-null float64\n",
      "dtypes: float64(7), int64(1), object(18)\n",
      "memory usage: 100.8+ KB\n"
     ]
    }
   ],
   "source": [
    "# Check for correct data types\n",
    "\n",
    "df.info()"
   ]
  },
  {
   "cell_type": "markdown",
   "metadata": {},
   "source": [
    "**Obervations**\n",
    "\n",
    "+ Date in string format, not datetime\n",
    "+ Explosive weight in string format, not int or float"
   ]
  },
  {
   "cell_type": "code",
   "execution_count": 16,
   "metadata": {},
   "outputs": [
    {
     "data": {
      "text/plain": [
       "S#                           0\n",
       "Date                         0\n",
       "Islamic Date               154\n",
       "Blast Day Type              10\n",
       "Holiday Type               424\n",
       "Time                       211\n",
       "City                         0\n",
       "Latitude                     3\n",
       "Longitude                    3\n",
       "Province                     0\n",
       "Location                     3\n",
       "Location Category           35\n",
       "Location Sensitivity        36\n",
       "Open/Closed Space           35\n",
       "Influencing Event/Event    305\n",
       "Target Type                 26\n",
       "Targeted Sect if any        48\n",
       "Killed Min                 146\n",
       "Killed Max                  16\n",
       "Injured Min                131\n",
       "Injured Max                 32\n",
       "No. of Suicide Blasts       82\n",
       "Explosive Weight (max)     324\n",
       "Hospital Names             199\n",
       "Temperature(C)               5\n",
       "Temperature(F)               7\n",
       "dtype: int64"
      ]
     },
     "execution_count": 16,
     "metadata": {},
     "output_type": "execute_result"
    }
   ],
   "source": [
    "# Check for null values\n",
    "\n",
    "df.isnull().sum()"
   ]
  },
  {
   "cell_type": "markdown",
   "metadata": {},
   "source": [
    "**Observations:**\n",
    "\n",
    "+ Column 'Holiday Type' has 424 null values\n",
    "\n",
    "+ Column 'Explosive Weight (max)' has 324 null values"
   ]
  },
  {
   "cell_type": "code",
   "execution_count": 18,
   "metadata": {},
   "outputs": [
    {
     "data": {
      "text/plain": [
       "0"
      ]
     },
     "execution_count": 18,
     "metadata": {},
     "output_type": "execute_result"
    }
   ],
   "source": [
    "# Check for duplicate rows\n",
    "\n",
    "df.duplicated().sum()"
   ]
  },
  {
   "cell_type": "code",
   "execution_count": 19,
   "metadata": {},
   "outputs": [
    {
     "data": {
      "text/html": [
       "<div>\n",
       "<style scoped>\n",
       "    .dataframe tbody tr th:only-of-type {\n",
       "        vertical-align: middle;\n",
       "    }\n",
       "\n",
       "    .dataframe tbody tr th {\n",
       "        vertical-align: top;\n",
       "    }\n",
       "\n",
       "    .dataframe thead th {\n",
       "        text-align: right;\n",
       "    }\n",
       "</style>\n",
       "<table border=\"1\" class=\"dataframe\">\n",
       "  <thead>\n",
       "    <tr style=\"text-align: right;\">\n",
       "      <th></th>\n",
       "      <th>S#</th>\n",
       "      <th>Latitude</th>\n",
       "      <th>Killed Min</th>\n",
       "      <th>Killed Max</th>\n",
       "      <th>Injured Min</th>\n",
       "      <th>No. of Suicide Blasts</th>\n",
       "      <th>Temperature(C)</th>\n",
       "      <th>Temperature(F)</th>\n",
       "    </tr>\n",
       "  </thead>\n",
       "  <tbody>\n",
       "    <tr>\n",
       "      <th>count</th>\n",
       "      <td>496.000000</td>\n",
       "      <td>493.000000</td>\n",
       "      <td>350.000000</td>\n",
       "      <td>480.000000</td>\n",
       "      <td>365.000000</td>\n",
       "      <td>414.000000</td>\n",
       "      <td>491.000000</td>\n",
       "      <td>489.000000</td>\n",
       "    </tr>\n",
       "    <tr>\n",
       "      <th>mean</th>\n",
       "      <td>248.500000</td>\n",
       "      <td>32.614705</td>\n",
       "      <td>14.725714</td>\n",
       "      <td>15.206250</td>\n",
       "      <td>31.397260</td>\n",
       "      <td>1.115942</td>\n",
       "      <td>21.111599</td>\n",
       "      <td>69.972579</td>\n",
       "    </tr>\n",
       "    <tr>\n",
       "      <th>std</th>\n",
       "      <td>143.327132</td>\n",
       "      <td>2.475917</td>\n",
       "      <td>17.600930</td>\n",
       "      <td>20.270436</td>\n",
       "      <td>38.603842</td>\n",
       "      <td>0.394989</td>\n",
       "      <td>8.369068</td>\n",
       "      <td>15.069622</td>\n",
       "    </tr>\n",
       "    <tr>\n",
       "      <th>min</th>\n",
       "      <td>1.000000</td>\n",
       "      <td>24.879503</td>\n",
       "      <td>0.000000</td>\n",
       "      <td>0.000000</td>\n",
       "      <td>0.000000</td>\n",
       "      <td>1.000000</td>\n",
       "      <td>-2.370000</td>\n",
       "      <td>27.734000</td>\n",
       "    </tr>\n",
       "    <tr>\n",
       "      <th>25%</th>\n",
       "      <td>124.750000</td>\n",
       "      <td>31.823800</td>\n",
       "      <td>3.000000</td>\n",
       "      <td>3.000000</td>\n",
       "      <td>7.000000</td>\n",
       "      <td>1.000000</td>\n",
       "      <td>14.690000</td>\n",
       "      <td>58.370000</td>\n",
       "    </tr>\n",
       "    <tr>\n",
       "      <th>50%</th>\n",
       "      <td>248.500000</td>\n",
       "      <td>33.583300</td>\n",
       "      <td>8.000000</td>\n",
       "      <td>8.000000</td>\n",
       "      <td>20.000000</td>\n",
       "      <td>1.000000</td>\n",
       "      <td>21.405000</td>\n",
       "      <td>70.529000</td>\n",
       "    </tr>\n",
       "    <tr>\n",
       "      <th>75%</th>\n",
       "      <td>372.250000</td>\n",
       "      <td>34.004300</td>\n",
       "      <td>20.000000</td>\n",
       "      <td>18.250000</td>\n",
       "      <td>40.000000</td>\n",
       "      <td>1.000000</td>\n",
       "      <td>28.115000</td>\n",
       "      <td>82.499000</td>\n",
       "    </tr>\n",
       "    <tr>\n",
       "      <th>max</th>\n",
       "      <td>496.000000</td>\n",
       "      <td>35.383300</td>\n",
       "      <td>125.000000</td>\n",
       "      <td>148.000000</td>\n",
       "      <td>320.000000</td>\n",
       "      <td>4.000000</td>\n",
       "      <td>44.000000</td>\n",
       "      <td>111.000000</td>\n",
       "    </tr>\n",
       "  </tbody>\n",
       "</table>\n",
       "</div>"
      ],
      "text/plain": [
       "               S#    Latitude  Killed Min  Killed Max  Injured Min  \\\n",
       "count  496.000000  493.000000  350.000000  480.000000   365.000000   \n",
       "mean   248.500000   32.614705   14.725714   15.206250    31.397260   \n",
       "std    143.327132    2.475917   17.600930   20.270436    38.603842   \n",
       "min      1.000000   24.879503    0.000000    0.000000     0.000000   \n",
       "25%    124.750000   31.823800    3.000000    3.000000     7.000000   \n",
       "50%    248.500000   33.583300    8.000000    8.000000    20.000000   \n",
       "75%    372.250000   34.004300   20.000000   18.250000    40.000000   \n",
       "max    496.000000   35.383300  125.000000  148.000000   320.000000   \n",
       "\n",
       "       No. of Suicide Blasts  Temperature(C)  Temperature(F)  \n",
       "count             414.000000      491.000000      489.000000  \n",
       "mean                1.115942       21.111599       69.972579  \n",
       "std                 0.394989        8.369068       15.069622  \n",
       "min                 1.000000       -2.370000       27.734000  \n",
       "25%                 1.000000       14.690000       58.370000  \n",
       "50%                 1.000000       21.405000       70.529000  \n",
       "75%                 1.000000       28.115000       82.499000  \n",
       "max                 4.000000       44.000000      111.000000  "
      ]
     },
     "execution_count": 19,
     "metadata": {},
     "output_type": "execute_result"
    }
   ],
   "source": [
    "# Check for impossible values\n",
    "df. describe()"
   ]
  },
  {
   "cell_type": "code",
   "execution_count": 22,
   "metadata": {},
   "outputs": [
    {
     "data": {
      "text/plain": [
       "Weekend                                45\n",
       "Ashura                                  4\n",
       "Eid Milad un-Nabi                       3\n",
       "Labour Day                              3\n",
       "Eid-ul-Fitar                            3\n",
       "Eid Holidays                            2\n",
       "Ashura Holiday                          2\n",
       "Iqbal Day                               2\n",
       "Pakistan Day                            2\n",
       "Eid-ul-azha                             1\n",
       "General Elections                       1\n",
       "Defence Day                             1\n",
       "Eid ul Azha Holiday                     1\n",
       "Christmas/birthday of Quaid-e-Azam      1\n",
       "Christmas/ birthday of Quaid-e-Azam     1\n",
       "Name: Holiday Type, dtype: int64"
      ]
     },
     "execution_count": 22,
     "metadata": {},
     "output_type": "execute_result"
    }
   ],
   "source": [
    "# Check for non descript or repetetive values for categorical columns.\n",
    "\n",
    "\n",
    "df['Holiday Type'].value_counts()\n",
    "\n"
   ]
  },
  {
   "cell_type": "markdown",
   "metadata": {},
   "source": [
    "**Observations:**\n",
    "+ Defense Day mispelled as 'Defence Day'"
   ]
  },
  {
   "cell_type": "code",
   "execution_count": 23,
   "metadata": {},
   "outputs": [
    {
     "data": {
      "text/plain": [
       "Working Day    403\n",
       "Holiday         78\n",
       "Weekend          5\n",
       "Name: Blast Day Type, dtype: int64"
      ]
     },
     "execution_count": 23,
     "metadata": {},
     "output_type": "execute_result"
    }
   ],
   "source": [
    "# Check for non descript or repetetive values for categorical columns.\n",
    "df['Blast Day Type'].value_counts()\n",
    "\n"
   ]
  },
  {
   "cell_type": "code",
   "execution_count": 24,
   "metadata": {},
   "outputs": [
    {
     "data": {
      "text/plain": [
       "Peshawar                      72\n",
       "Quetta                        35\n",
       "Swat                          25\n",
       "Bannu                         22\n",
       "Karachi                       21\n",
       "Rawalpindi                    19\n",
       "Islamabad                     17\n",
       "Hangu                         17\n",
       "Lahore                        14\n",
       "Khyber Agency                 14\n",
       "Bajaur Agency                 13\n",
       "North Waziristan              13\n",
       "North waziristan              11\n",
       "Lahore                        11\n",
       "Kohat                         11\n",
       "Mardan                         9\n",
       "D.I Khan                       8\n",
       "Charsadda                      7\n",
       "Tank                           7\n",
       "Karachi                        6\n",
       "South waziristan               6\n",
       "Mohmand Agency                 6\n",
       "Kuram Agency                   5\n",
       "South Waziristan               5\n",
       "Nowshehra                      5\n",
       "D.I Khan                       4\n",
       "Buner                          4\n",
       "Lower Dir                      4\n",
       "Swat                           4\n",
       "Sargodha                       3\n",
       "                              ..\n",
       "Mosal Kor, Mohmand Agency      1\n",
       "Kohat                          1\n",
       "D. I Khan                      1\n",
       "lakki marwat                   1\n",
       "Pishin                         1\n",
       "Tirah Valley                   1\n",
       "Sudhanoti                      1\n",
       "Taunsa                         1\n",
       "Haripur                        1\n",
       "Bhakkar                        1\n",
       "Tank                           1\n",
       "D.G Khan                       1\n",
       "Khanewal                       1\n",
       "peshawar                       1\n",
       "Sialkot                        1\n",
       "KURRAM AGENCY                  1\n",
       "Taftan                         1\n",
       "Tangi, Charsadda District      1\n",
       "Mansehra                       1\n",
       "Totalai                        1\n",
       "karachi                        1\n",
       "Hayatabad                      1\n",
       "swat                           1\n",
       "ATTOCK                         1\n",
       "Fateh Jang                     1\n",
       "Khuzdar                        1\n",
       "Ghallanai, Mohmand Agency      1\n",
       "Lakki Marwat                   1\n",
       "Shabqadar-Charsadda            1\n",
       "Sehwan town                    1\n",
       "Name: City, Length: 93, dtype: int64"
      ]
     },
     "execution_count": 24,
     "metadata": {},
     "output_type": "execute_result"
    }
   ],
   "source": [
    "# Check for non descript or repetetive values for categorical columns.\n",
    "\n",
    "df['City'].value_counts()\n"
   ]
  },
  {
   "cell_type": "markdown",
   "metadata": {},
   "source": [
    "**Observations:**\n",
    "\n",
    "+ North Waziristan repeated and spelled as 'North waziristan'  "
   ]
  },
  {
   "cell_type": "code",
   "execution_count": 25,
   "metadata": {},
   "outputs": [
    {
     "data": {
      "text/plain": [
       "Imambargah                                                                3\n",
       "Islamabad Marriott Hotal                                                  2\n",
       "Mingora police Station                                                    2\n",
       "Security check post Miramshah \\nNorth Wazirstan                           2\n",
       "Orangi Town Faqeer Colony                                                 2\n",
       "Security Checkpost near Miramshah                                         1\n",
       "Inside a mosque in Shahi Bagh area near Tirah IDPs registration center    1\n",
       "Security checkpost located in Tal area of Hangu                           1\n",
       "Crime Investigation Department                                            1\n",
       "checkpost near ISI Office building in Qasim Bala area -Multan Cantt       1\n",
       "Boghra Road                                                               1\n",
       "Sarband Area on the outskirts of city                                     1\n",
       "Nowshera near\\nProvincial Info Ministr house                              1\n",
       "Qasim market-Parade Lane Masjid                                           1\n",
       "Mardan City Police Station                                                1\n",
       "Kohat road                                                                1\n",
       "Imambargah in Chakwal                                                     1\n",
       "Residence IG Police province of Balochistan                               1\n",
       "near Tarezi Chowk on the main Bannu-Kohat road.                           1\n",
       "Sohrab Khan Market town Mingora                                           1\n",
       "Rescue 15 building in Islamabad                                           1\n",
       "Mingora-Nishat Chowk                                                      1\n",
       "Khyber Agency's Political Agent Office in Peshawar                        1\n",
       "Quetta Khilji Conlony                                                     1\n",
       "Check post near lahori gate                                               1\n",
       "Sarameena area of Khar tehsil in the Bajaur Agency                        1\n",
       "Kirani Road near Hazara Town                                              1\n",
       "Entrance to imambargah                                                    1\n",
       "silk bank in I-8 markaz                                                   1\n",
       "near Arfa Karim IT Tower Ferozepur Road                                   1\n",
       "                                                                         ..\n",
       "US Consulate Civil Lines Area                                             1\n",
       "Truck carrying security personeel was attacked in Mamond area             1\n",
       "Old City Police Station                                                   1\n",
       "Malikabad area of Swabi                                                   1\n",
       "Harichand Police Post-\\nCharsadda                                         1\n",
       "near a police station in Darra Pezu Town                                  1\n",
       "landikotal town                                                           1\n",
       "LI center near Darss Mosque in akakhel area of Tirah valley               1\n",
       "Data Darbar-Lahore                                                        1\n",
       "jabukhel village                                                          1\n",
       "Cattle Market in Adezai\\nVillage in Peshawar                              1\n",
       "spin khawri chowk                                                         1\n",
       "Miltary convoy in bannu Gurbaz area                                       1\n",
       "Navy war college mall road lahore                                         1\n",
       "Gracy line area near Airport                                              1\n",
       "South waziristan                                                          1\n",
       "Raily Housing Society\\nNear Finance Minnister\\nHouse Quetta               1\n",
       "near non commisioned officers place-Muzaffarabad                          1\n",
       "funeral procession on  Dera Bannu road-near shobra hotel                  1\n",
       "Wana-main town of South waziristan                                        1\n",
       "Kajhori checkpost north waziristan                                        1\n",
       "Check post in Khawazakhela- Char Bagh road near-waliabad village          1\n",
       "Jamia Masjid Kashmirian in Mochi Gate                                     1\n",
       "Gorali village-4 km from Gujrat                                           1\n",
       "IDP camp-kacha Pakha area on Hangu Road Kohat                             1\n",
       "Akkakhel area of Bara in Khyber Agency                                    1\n",
       "R.A Bazaar                                                                1\n",
       "Rescue 15 Building adjecent to police station in Thall                    1\n",
       "The bomb blast took place in Yakatoot in Kotwali Abid Khan                1\n",
       "checkpost in north waziristan-close to Afghanistan border                 1\n",
       "Name: Location, Length: 487, dtype: int64"
      ]
     },
     "execution_count": 25,
     "metadata": {},
     "output_type": "execute_result"
    }
   ],
   "source": [
    "# Check for non descript or repetetive values for categorical columns.\n",
    "\n",
    "df['Location'].value_counts()\n"
   ]
  },
  {
   "cell_type": "code",
   "execution_count": 26,
   "metadata": {},
   "outputs": [
    {
     "data": {
      "text/plain": [
       "Police                        92\n",
       "Mobile                        70\n",
       "Military                      70\n",
       "Religious                     57\n",
       "Market                        40\n",
       "Park/Ground                   32\n",
       "Residence                     25\n",
       "Government                    19\n",
       "Hotel                         10\n",
       "Office Building                9\n",
       "Foreign                        6\n",
       "Educational                    6\n",
       "Hospital                       5\n",
       "Transport                      5\n",
       "Bank                           4\n",
       "Commercial/residence           2\n",
       "Airport                        1\n",
       "Civilian                       1\n",
       "Residential Building           1\n",
       "                               1\n",
       "Foreigner                      1\n",
       "Highway                        1\n",
       "Government/Office Building     1\n",
       "Government Official            1\n",
       "foreign                        1\n",
       "Name: Location Category, dtype: int64"
      ]
     },
     "execution_count": 26,
     "metadata": {},
     "output_type": "execute_result"
    }
   ],
   "source": [
    "# Check for non descript or repetetive values for categorical columns.\n",
    "\n",
    "df['Location Category'].value_counts()\n"
   ]
  },
  {
   "cell_type": "markdown",
   "metadata": {},
   "source": [
    "**Observations:**\n",
    "\n",
    "+ 'Foreign' 'Foreigner' and 'foreign' vl"
   ]
  },
  {
   "cell_type": "code",
   "execution_count": null,
   "metadata": {},
   "outputs": [],
   "source": [
    "# Check for non descript or repetetive values for categorical columns.\n",
    "\n",
    "df['Location Sensitivity'].value_counts()"
   ]
  },
  {
   "cell_type": "markdown",
   "metadata": {},
   "source": [
    "### Clean"
   ]
  },
  {
   "cell_type": "markdown",
   "metadata": {},
   "source": [
    "#### Define"
   ]
  },
  {
   "cell_type": "code",
   "execution_count": null,
   "metadata": {},
   "outputs": [],
   "source": []
  },
  {
   "cell_type": "code",
   "execution_count": null,
   "metadata": {},
   "outputs": [],
   "source": []
  },
  {
   "cell_type": "markdown",
   "metadata": {},
   "source": [
    "#### Code"
   ]
  },
  {
   "cell_type": "code",
   "execution_count": null,
   "metadata": {},
   "outputs": [],
   "source": []
  },
  {
   "cell_type": "code",
   "execution_count": null,
   "metadata": {},
   "outputs": [],
   "source": []
  },
  {
   "cell_type": "code",
   "execution_count": null,
   "metadata": {},
   "outputs": [],
   "source": []
  },
  {
   "cell_type": "markdown",
   "metadata": {},
   "source": [
    "#### Test"
   ]
  },
  {
   "cell_type": "code",
   "execution_count": null,
   "metadata": {},
   "outputs": [],
   "source": []
  },
  {
   "cell_type": "code",
   "execution_count": null,
   "metadata": {},
   "outputs": [],
   "source": []
  },
  {
   "cell_type": "code",
   "execution_count": null,
   "metadata": {},
   "outputs": [],
   "source": []
  },
  {
   "cell_type": "markdown",
   "metadata": {},
   "source": [
    "### Conclusion"
   ]
  }
 ],
 "metadata": {
  "kernelspec": {
   "display_name": "Python 3",
   "language": "python",
   "name": "python3"
  },
  "language_info": {
   "codemirror_mode": {
    "name": "ipython",
    "version": 3
   },
   "file_extension": ".py",
   "mimetype": "text/x-python",
   "name": "python",
   "nbconvert_exporter": "python",
   "pygments_lexer": "ipython3",
   "version": "3.7.3"
  }
 },
 "nbformat": 4,
 "nbformat_minor": 2
}
